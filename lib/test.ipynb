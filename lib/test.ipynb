{
 "cells": [
  {
   "cell_type": "code",
   "execution_count": 31,
   "metadata": {},
   "outputs": [],
   "source": [
    "import numpy as np\n",
    "import pandas as pd\n",
    "from matplotlib import pyplot as plt\n",
    "import time\n",
    "import seaborn as sns \n",
    "from sklearn.externals import joblib\n",
    "from sklearn.metrics import  classification_report, confusion_matrix"
   ]
  },
  {
   "cell_type": "code",
   "execution_count": 72,
   "metadata": {},
   "outputs": [],
   "source": [
    "data = pd.read_csv('../output/feature_extraction_test.csv')"
   ]
  },
  {
   "cell_type": "code",
   "execution_count": 73,
   "metadata": {},
   "outputs": [],
   "source": [
    "data = data.drop(columns=['Unnamed: 0'])\n",
    "X = data.values"
   ]
  },
  {
   "cell_type": "code",
   "execution_count": 52,
   "metadata": {},
   "outputs": [],
   "source": [
    "# X,y = data[:,:6006],data[:,6006]"
   ]
  },
  {
   "cell_type": "markdown",
   "metadata": {},
   "source": [
    "## GBM baseline"
   ]
  },
  {
   "cell_type": "code",
   "execution_count": 74,
   "metadata": {},
   "outputs": [
    {
     "name": "stdout",
     "output_type": "stream",
     "text": [
      "--- 0.4846048355102539 seconds ---\n"
     ]
    }
   ],
   "source": [
    "\n",
    "gbm_model = joblib.load('../output/gbm_base.m')\n",
    "start_time = time.time()\n",
    "gbm_predictions=gbm_model.predict(X)\n",
    "print(\"--- %s seconds ---\" % (time.time() - start_time))\n",
    "# np.mean(gbm_predictions==y)\n",
    "# cn = confusion_matrix(y,gbm_predictions)\n",
    "# sns.heatmap(cn)\n",
    "# print(classification_report(y,gbm_predictions))\n",
    "# from sklearn.metrics import accuracy_score\n",
    "# gbm_predictions = [round(value) for value in gbm_predictions]\n",
    "# gbm_accuracy = accuracy_score(y, gbm_predictions)\n",
    "# print(\"Accuracy: %.2f%%\" % (gbm_accuracy * 100.0))"
   ]
  },
  {
   "cell_type": "code",
   "execution_count": 76,
   "metadata": {},
   "outputs": [
    {
     "data": {
      "text/plain": [
       "array([12, 17,  9, ...,  4, 14, 19], dtype=int64)"
      ]
     },
     "execution_count": 76,
     "metadata": {},
     "output_type": "execute_result"
    }
   ],
   "source": [
    "gbm_predictions"
   ]
  },
  {
   "cell_type": "code",
   "execution_count": 75,
   "metadata": {},
   "outputs": [],
   "source": [
    "pd.DataFrame(gbm_predictions).to_csv('../output/gbm_predictions.csv')"
   ]
  },
  {
   "cell_type": "markdown",
   "metadata": {},
   "source": [
    "## SVM "
   ]
  },
  {
   "cell_type": "code",
   "execution_count": 77,
   "metadata": {},
   "outputs": [
    {
     "name": "stdout",
     "output_type": "stream",
     "text": [
      "--- 84.39038395881653 seconds ---\n"
     ]
    }
   ],
   "source": [
    "svm_model = joblib.load('../output/svm.m')\n",
    "start_time=time.time()\n",
    "svm_predictions=svm_model.predict(X)\n",
    "print(\"--- %s seconds ---\" % (time.time() - start_time))\n",
    "# cn = confusion_matrix(y,svm_predictions)\n",
    "# sns.heatmap(cn)\n",
    "# print(classification_report(y,svm_predictions))\n",
    "# from sklearn.metrics import accuracy_score\n",
    "# svm_predictions = [round(value) for value in svm_predictions]\n",
    "# svm_accuracy = accuracy_score(y, svm_predictions)\n",
    "# print(\"Accuracy: %.2f%%\" % (svm_accuracy * 100.0))"
   ]
  },
  {
   "cell_type": "code",
   "execution_count": 78,
   "metadata": {},
   "outputs": [
    {
     "data": {
      "text/plain": [
       "array([22, 18,  9, ...,  4, 20, 18], dtype=int64)"
      ]
     },
     "execution_count": 78,
     "metadata": {},
     "output_type": "execute_result"
    }
   ],
   "source": [
    "svm_predictions"
   ]
  },
  {
   "cell_type": "code",
   "execution_count": 79,
   "metadata": {},
   "outputs": [],
   "source": [
    "pd.DataFrame(svm_predictions).to_csv('../output/svm_predictions.csv')"
   ]
  },
  {
   "cell_type": "markdown",
   "metadata": {},
   "source": [
    "## Neural Network"
   ]
  },
  {
   "cell_type": "code",
   "execution_count": 81,
   "metadata": {},
   "outputs": [
    {
     "name": "stdout",
     "output_type": "stream",
     "text": [
      "--- 1.1881415843963623 seconds ---\n"
     ]
    }
   ],
   "source": [
    "nn_model = joblib.load('../output/nn.m')\n",
    "start_time=time.time()\n",
    "nn_predictions=nn_model.predict(X)\n",
    "print(\"--- %s seconds ---\" % (time.time() - start_time))\n",
    "nn_predictions = nn_predictions.argmax(axis=-1)\n",
    "nn_predictions = nn_predictions+1 "
   ]
  },
  {
   "cell_type": "code",
   "execution_count": 82,
   "metadata": {},
   "outputs": [
    {
     "data": {
      "text/plain": [
       "array([22, 17,  9, ...,  4,  7, 19], dtype=int64)"
      ]
     },
     "execution_count": 82,
     "metadata": {},
     "output_type": "execute_result"
    }
   ],
   "source": [
    "nn_predictions"
   ]
  },
  {
   "cell_type": "code",
   "execution_count": 83,
   "metadata": {},
   "outputs": [],
   "source": [
    "pd.DataFrame(nn_predictions).to_csv('../output/nn_predictions.csv')"
   ]
  },
  {
   "cell_type": "code",
   "execution_count": 53,
   "metadata": {},
   "outputs": [
    {
     "data": {
      "text/plain": [
       "0.9028"
      ]
     },
     "execution_count": 53,
     "metadata": {},
     "output_type": "execute_result"
    }
   ],
   "source": [
    "# np.mean(nn_predictions==y)"
   ]
  }
 ],
 "metadata": {
  "kernelspec": {
   "display_name": "Python 3",
   "language": "python",
   "name": "python3"
  },
  "language_info": {
   "codemirror_mode": {
    "name": "ipython",
    "version": 3
   },
   "file_extension": ".py",
   "mimetype": "text/x-python",
   "name": "python",
   "nbconvert_exporter": "python",
   "pygments_lexer": "ipython3",
   "version": "3.7.3"
  }
 },
 "nbformat": 4,
 "nbformat_minor": 2
}
