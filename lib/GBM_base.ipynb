{
 "cells": [
  {
   "cell_type": "code",
   "execution_count": 2,
   "metadata": {},
   "outputs": [],
   "source": [
    "import numpy as np"
   ]
  },
  {
   "cell_type": "code",
   "execution_count": 3,
   "metadata": {},
   "outputs": [],
   "source": [
    "import pandas as pd\n",
    "data = pd.read_csv('../output/feature_extraction.csv',index=False)\n",
    "data = data.values"
   ]
  },
  {
   "cell_type": "code",
   "execution_count": 23,
   "metadata": {},
   "outputs": [],
   "source": [
    "from sklearn.model_selection import train_test_split\n",
    "X_train,X_test,y_train,y_test = train_test_split(data[:,:6006],data[:,6006],test_size=0.2,random_state=123)"
   ]
  },
  {
   "cell_type": "code",
   "execution_count": null,
   "metadata": {},
   "outputs": [],
   "source": [
    "#baseline\n",
    "import time \n",
    "from sklearn.ensemble import GradientBoostingClassifier \n",
    "from sklearn.metrics import classification_report, confusion_matrix\n",
    "start_time = time.time()\n",
    "gbmtree_model = GradientBoostingClassifier(max_depth = 1,n_estimators=300).fit(X_train,y_train) \n",
    "print(\"--- %s seconds ---\" % (time.time() - start_time))"
   ]
  },
  {
   "cell_type": "code",
   "execution_count": null,
   "metadata": {},
   "outputs": [],
   "source": [
    "from sklearn.externals import joblib\n",
    "joblib.dump(gbmtree_model,'../output/gbm_base.m')"
   ]
  },
  {
   "cell_type": "code",
   "execution_count": 7,
   "metadata": {
    "collapsed": true
   },
   "outputs": [
    {
     "name": "stdout",
     "output_type": "stream",
     "text": [
      "              precision    recall  f1-score   support\n",
      "\n",
      "           1       0.41      0.61      0.49        18\n",
      "           2       0.52      0.58      0.55        19\n",
      "           3       0.26      0.40      0.32        25\n",
      "           4       0.36      0.48      0.41        21\n",
      "           5       0.50      0.56      0.53        18\n",
      "           6       0.37      0.27      0.31        26\n",
      "           7       0.53      0.50      0.51        20\n",
      "           8       0.42      0.69      0.52        16\n",
      "           9       0.67      0.48      0.56        25\n",
      "          10       0.30      0.30      0.30        20\n",
      "          11       0.44      0.46      0.45        24\n",
      "          12       0.33      0.25      0.29        32\n",
      "          13       0.19      0.12      0.15        24\n",
      "          14       0.43      0.65      0.52        23\n",
      "          15       0.40      0.27      0.32        22\n",
      "          16       0.62      0.68      0.65        22\n",
      "          17       0.38      0.46      0.41        26\n",
      "          18       0.38      0.27      0.32        22\n",
      "          19       0.31      0.35      0.33        23\n",
      "          20       0.26      0.30      0.28        20\n",
      "          21       0.53      0.29      0.38        34\n",
      "          22       0.22      0.10      0.14        20\n",
      "\n",
      "    accuracy                           0.40       500\n",
      "   macro avg       0.40      0.41      0.40       500\n",
      "weighted avg       0.40      0.40      0.39       500\n",
      "\n"
     ]
    }
   ],
   "source": [
    "from sklearn.metrics import classification_report, confusion_matrix\n",
    "import seaborn as sns \n",
    "gbm_predictions = gbmtree_model.predict(X_test) \n",
    "cn = confusion_matrix(y_test,gbm_predictions)\n",
    "sns.heapmap(cn)\n",
    "print(classification_report(y_test,gbm_predictions))"
   ]
  },
  {
   "cell_type": "code",
   "execution_count": null,
   "metadata": {},
   "outputs": [],
   "source": [
    "from sklearn.metrics import accuracy_score\n",
    "gbm_predictions = [round(value) for value in gbm_predictions]\n",
    "gbm_accuracy = accuracy_score(y_test, gbm_predictions)\n",
    "print(\"Accuracy: %.2f%%\" % (gbm_accuracy * 100.0))"
   ]
  }
 ],
 "metadata": {
  "kernelspec": {
   "display_name": "Python 3",
   "language": "python",
   "name": "python3"
  },
  "language_info": {
   "codemirror_mode": {
    "name": "ipython",
    "version": 3
   },
   "file_extension": ".py",
   "mimetype": "text/x-python",
   "name": "python",
   "nbconvert_exporter": "python",
   "pygments_lexer": "ipython3",
   "version": "3.7.3"
  }
 },
 "nbformat": 4,
 "nbformat_minor": 2
}
