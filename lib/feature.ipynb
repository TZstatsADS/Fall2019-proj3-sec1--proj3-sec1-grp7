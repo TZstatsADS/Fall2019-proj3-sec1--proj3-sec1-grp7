{
 "cells": [
  {
   "cell_type": "code",
   "execution_count": 1,
   "metadata": {},
   "outputs": [],
   "source": [
    "import numpy as np\n",
    "import pandas as pd\n",
    "from matplotlib import pyplot as plt\n",
    "%run ../lib/load.py"
   ]
  },
  {
   "cell_type": "code",
   "execution_count": 3,
   "metadata": {},
   "outputs": [
    {
     "name": "stdout",
     "output_type": "stream",
     "text": [
      "--- 10.592414617538452 seconds ---\n"
     ]
    }
   ],
   "source": [
    "path = 'C:/Users/rui/Desktop/train_set/'\n",
    "data = load.load_data(path+'label.csv')\n",
    "points_path = 'C:/Users/rui/Desktop/train_set/points/'\n",
    "X = load.load_points(points_path,data)\n",
    "y= data['emotion_idx'].to_numpy()\n",
    "output = np.column_stack((X,y))"
   ]
  },
  {
   "cell_type": "code",
   "execution_count": 4,
   "metadata": {},
   "outputs": [],
   "source": [
    "pd.DataFrame(output).to_csv('../output/feature_extraction.csv')"
   ]
  },
  {
   "cell_type": "code",
   "execution_count": 7,
   "metadata": {},
   "outputs": [
    {
     "name": "stdout",
     "output_type": "stream",
     "text": [
      "--- 26.47047472000122 seconds ---\n"
     ]
    }
   ],
   "source": [
    "path = 'C:/Users/rui/Desktop/test_set/'\n",
    "data = load.load_data(path+'labels_prediction.csv')\n",
    "points_path = 'C:/Users/rui/Desktop/test_set/points/'\n",
    "X = load.load_points(points_path,data)\n",
    "# y= data['emotion_idx'].to_numpy()\n",
    "# output = np.column_stack((X,y))"
   ]
  },
  {
   "cell_type": "code",
   "execution_count": 8,
   "metadata": {},
   "outputs": [],
   "source": [
    "pd.DataFrame(X).to_csv('../output/feature_extraction_test.csv')"
   ]
  }
 ],
 "metadata": {
  "kernelspec": {
   "display_name": "Python 3",
   "language": "python",
   "name": "python3"
  },
  "language_info": {
   "codemirror_mode": {
    "name": "ipython",
    "version": 3
   },
   "file_extension": ".py",
   "mimetype": "text/x-python",
   "name": "python",
   "nbconvert_exporter": "python",
   "pygments_lexer": "ipython3",
   "version": "3.7.3"
  }
 },
 "nbformat": 4,
 "nbformat_minor": 2
}
