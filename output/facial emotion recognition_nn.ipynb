{
 "cells": [
  {
   "cell_type": "code",
   "execution_count": 1,
   "metadata": {},
   "outputs": [],
   "source": [
    "import numpy as np\n",
    "import pandas as pd\n",
    "from matplotlib import pyplot as plt\n",
    "from PIL import Image "
   ]
  },
  {
   "cell_type": "code",
   "execution_count": 2,
   "metadata": {},
   "outputs": [],
   "source": [
    "data = pd.read_csv('label.csv')"
   ]
  },
  {
   "cell_type": "code",
   "execution_count": 3,
   "metadata": {},
   "outputs": [
    {
     "data": {
      "text/html": [
       "<div>\n",
       "<style scoped>\n",
       "    .dataframe tbody tr th:only-of-type {\n",
       "        vertical-align: middle;\n",
       "    }\n",
       "\n",
       "    .dataframe tbody tr th {\n",
       "        vertical-align: top;\n",
       "    }\n",
       "\n",
       "    .dataframe thead th {\n",
       "        text-align: right;\n",
       "    }\n",
       "</style>\n",
       "<table border=\"1\" class=\"dataframe\">\n",
       "  <thead>\n",
       "    <tr style=\"text-align: right;\">\n",
       "      <th></th>\n",
       "      <th>Unnamed: 0</th>\n",
       "      <th>Index</th>\n",
       "      <th>identity</th>\n",
       "      <th>emotion_idx</th>\n",
       "      <th>emotion_cat</th>\n",
       "      <th>type</th>\n",
       "    </tr>\n",
       "  </thead>\n",
       "  <tbody>\n",
       "    <tr>\n",
       "      <td>0</td>\n",
       "      <td>1</td>\n",
       "      <td>1</td>\n",
       "      <td>111</td>\n",
       "      <td>1</td>\n",
       "      <td>Neutral</td>\n",
       "      <td>simple</td>\n",
       "    </tr>\n",
       "    <tr>\n",
       "      <td>1</td>\n",
       "      <td>2</td>\n",
       "      <td>2</td>\n",
       "      <td>114</td>\n",
       "      <td>1</td>\n",
       "      <td>Neutral</td>\n",
       "      <td>simple</td>\n",
       "    </tr>\n",
       "    <tr>\n",
       "      <td>2</td>\n",
       "      <td>3</td>\n",
       "      <td>3</td>\n",
       "      <td>115</td>\n",
       "      <td>1</td>\n",
       "      <td>Neutral</td>\n",
       "      <td>simple</td>\n",
       "    </tr>\n",
       "    <tr>\n",
       "      <td>3</td>\n",
       "      <td>4</td>\n",
       "      <td>4</td>\n",
       "      <td>116</td>\n",
       "      <td>1</td>\n",
       "      <td>Neutral</td>\n",
       "      <td>simple</td>\n",
       "    </tr>\n",
       "    <tr>\n",
       "      <td>4</td>\n",
       "      <td>5</td>\n",
       "      <td>5</td>\n",
       "      <td>117</td>\n",
       "      <td>1</td>\n",
       "      <td>Neutral</td>\n",
       "      <td>simple</td>\n",
       "    </tr>\n",
       "  </tbody>\n",
       "</table>\n",
       "</div>"
      ],
      "text/plain": [
       "   Unnamed: 0  Index  identity  emotion_idx emotion_cat    type\n",
       "0           1      1       111            1     Neutral  simple\n",
       "1           2      2       114            1     Neutral  simple\n",
       "2           3      3       115            1     Neutral  simple\n",
       "3           4      4       116            1     Neutral  simple\n",
       "4           5      5       117            1     Neutral  simple"
      ]
     },
     "execution_count": 3,
     "metadata": {},
     "output_type": "execute_result"
    }
   ],
   "source": [
    "data.head()"
   ]
  },
  {
   "cell_type": "code",
   "execution_count": 3,
   "metadata": {},
   "outputs": [],
   "source": [
    "data['filename'] = [str(i).zfill(4)+'.jpg' for i in data['Index'].tolist()]\n",
    "data['pointsname'] = [str(i).zfill(4)+'.mat' for i in data['Index'].tolist()]"
   ]
  },
  {
   "cell_type": "code",
   "execution_count": 4,
   "metadata": {},
   "outputs": [],
   "source": [
    "data = data.drop(columns=['Unnamed: 0'])"
   ]
  },
  {
   "cell_type": "code",
   "execution_count": 6,
   "metadata": {},
   "outputs": [
    {
     "data": {
      "text/html": [
       "<div>\n",
       "<style scoped>\n",
       "    .dataframe tbody tr th:only-of-type {\n",
       "        vertical-align: middle;\n",
       "    }\n",
       "\n",
       "    .dataframe tbody tr th {\n",
       "        vertical-align: top;\n",
       "    }\n",
       "\n",
       "    .dataframe thead th {\n",
       "        text-align: right;\n",
       "    }\n",
       "</style>\n",
       "<table border=\"1\" class=\"dataframe\">\n",
       "  <thead>\n",
       "    <tr style=\"text-align: right;\">\n",
       "      <th></th>\n",
       "      <th>Index</th>\n",
       "      <th>identity</th>\n",
       "      <th>emotion_idx</th>\n",
       "      <th>emotion_cat</th>\n",
       "      <th>type</th>\n",
       "      <th>filename</th>\n",
       "      <th>pointsname</th>\n",
       "    </tr>\n",
       "  </thead>\n",
       "  <tbody>\n",
       "    <tr>\n",
       "      <td>0</td>\n",
       "      <td>1</td>\n",
       "      <td>111</td>\n",
       "      <td>1</td>\n",
       "      <td>Neutral</td>\n",
       "      <td>simple</td>\n",
       "      <td>0001.jpg</td>\n",
       "      <td>0001.mat</td>\n",
       "    </tr>\n",
       "    <tr>\n",
       "      <td>1</td>\n",
       "      <td>2</td>\n",
       "      <td>114</td>\n",
       "      <td>1</td>\n",
       "      <td>Neutral</td>\n",
       "      <td>simple</td>\n",
       "      <td>0002.jpg</td>\n",
       "      <td>0002.mat</td>\n",
       "    </tr>\n",
       "    <tr>\n",
       "      <td>2</td>\n",
       "      <td>3</td>\n",
       "      <td>115</td>\n",
       "      <td>1</td>\n",
       "      <td>Neutral</td>\n",
       "      <td>simple</td>\n",
       "      <td>0003.jpg</td>\n",
       "      <td>0003.mat</td>\n",
       "    </tr>\n",
       "    <tr>\n",
       "      <td>3</td>\n",
       "      <td>4</td>\n",
       "      <td>116</td>\n",
       "      <td>1</td>\n",
       "      <td>Neutral</td>\n",
       "      <td>simple</td>\n",
       "      <td>0004.jpg</td>\n",
       "      <td>0004.mat</td>\n",
       "    </tr>\n",
       "    <tr>\n",
       "      <td>4</td>\n",
       "      <td>5</td>\n",
       "      <td>117</td>\n",
       "      <td>1</td>\n",
       "      <td>Neutral</td>\n",
       "      <td>simple</td>\n",
       "      <td>0005.jpg</td>\n",
       "      <td>0005.mat</td>\n",
       "    </tr>\n",
       "  </tbody>\n",
       "</table>\n",
       "</div>"
      ],
      "text/plain": [
       "   Index  identity  emotion_idx emotion_cat    type  filename pointsname\n",
       "0      1       111            1     Neutral  simple  0001.jpg   0001.mat\n",
       "1      2       114            1     Neutral  simple  0002.jpg   0002.mat\n",
       "2      3       115            1     Neutral  simple  0003.jpg   0003.mat\n",
       "3      4       116            1     Neutral  simple  0004.jpg   0004.mat\n",
       "4      5       117            1     Neutral  simple  0005.jpg   0005.mat"
      ]
     },
     "execution_count": 6,
     "metadata": {},
     "output_type": "execute_result"
    }
   ],
   "source": [
    "data.head()"
   ]
  },
  {
   "cell_type": "code",
   "execution_count": 22,
   "metadata": {},
   "outputs": [],
   "source": [
    "#read points data from mat data \n",
    "from scipy.io import loadmat\n",
    "points_path = 'C:/Users/rui/Desktop/train_set/points/'\n",
    "n = data.shape[0]\n",
    "#we've known each matdata include 78 points in 2d and calculate their distance \n",
    "points_data = np.zeros([n,3003])\n",
    "for i in range(n):\n",
    "    result = loadmat(points_path+data['pointsname'][i])\n",
    "    key = sorted(result.keys())[-1] \n",
    "    points=result[key]\n",
    "    points_distance=[]\n",
    "    for d in range(points.shape[0]-1):\n",
    "        for j in range(d+1,points.shape[0]):\n",
    "            distance = np.sqrt(np.square(points[d,0]-points[j,0])+np.square(points[d,1]-points[j,1]))\n",
    "            points_distance.append(distance)\n",
    "    points_data[i,]=points_distance"
   ]
  },
  {
   "cell_type": "code",
   "execution_count": 8,
   "metadata": {},
   "outputs": [],
   "source": [
    "#read images \n",
    "size = 128\n",
    "face_X=np.zeros([n,size,size,3])\n",
    "photo_path = 'C:/Users/rui/Desktop/train_set/images/'\n",
    "for i in range(n):\n",
    "    photo = Image.open(photo_path+data['filename'][i])\n",
    "    photo = photo.resize([size,size])\n",
    "    face_X[i,] = np.array(photo)/255"
   ]
  },
  {
   "cell_type": "code",
   "execution_count": 23,
   "metadata": {
    "collapsed": true
   },
   "outputs": [
    {
     "name": "stderr",
     "output_type": "stream",
     "text": [
      "Using TensorFlow backend.\n",
      "C:\\Users\\rui\\Anaconda3\\envs\\data\\lib\\site-packages\\tensorflow\\python\\framework\\dtypes.py:526: FutureWarning: Passing (type, 1) or '1type' as a synonym of type is deprecated; in a future version of numpy, it will be understood as (type, (1,)) / '(1,)type'.\n",
      "  _np_qint8 = np.dtype([(\"qint8\", np.int8, 1)])\n",
      "C:\\Users\\rui\\Anaconda3\\envs\\data\\lib\\site-packages\\tensorflow\\python\\framework\\dtypes.py:527: FutureWarning: Passing (type, 1) or '1type' as a synonym of type is deprecated; in a future version of numpy, it will be understood as (type, (1,)) / '(1,)type'.\n",
      "  _np_quint8 = np.dtype([(\"quint8\", np.uint8, 1)])\n",
      "C:\\Users\\rui\\Anaconda3\\envs\\data\\lib\\site-packages\\tensorflow\\python\\framework\\dtypes.py:528: FutureWarning: Passing (type, 1) or '1type' as a synonym of type is deprecated; in a future version of numpy, it will be understood as (type, (1,)) / '(1,)type'.\n",
      "  _np_qint16 = np.dtype([(\"qint16\", np.int16, 1)])\n",
      "C:\\Users\\rui\\Anaconda3\\envs\\data\\lib\\site-packages\\tensorflow\\python\\framework\\dtypes.py:529: FutureWarning: Passing (type, 1) or '1type' as a synonym of type is deprecated; in a future version of numpy, it will be understood as (type, (1,)) / '(1,)type'.\n",
      "  _np_quint16 = np.dtype([(\"quint16\", np.uint16, 1)])\n",
      "C:\\Users\\rui\\Anaconda3\\envs\\data\\lib\\site-packages\\tensorflow\\python\\framework\\dtypes.py:530: FutureWarning: Passing (type, 1) or '1type' as a synonym of type is deprecated; in a future version of numpy, it will be understood as (type, (1,)) / '(1,)type'.\n",
      "  _np_qint32 = np.dtype([(\"qint32\", np.int32, 1)])\n",
      "C:\\Users\\rui\\Anaconda3\\envs\\data\\lib\\site-packages\\tensorflow\\python\\framework\\dtypes.py:535: FutureWarning: Passing (type, 1) or '1type' as a synonym of type is deprecated; in a future version of numpy, it will be understood as (type, (1,)) / '(1,)type'.\n",
      "  np_resource = np.dtype([(\"resource\", np.ubyte, 1)])\n"
     ]
    }
   ],
   "source": [
    "#set predictors\n",
    "from keras.utils import to_categorical\n",
    "Y = to_categorical(data['emotion_idx'])\n",
    "Y = Y[:,1:]"
   ]
  },
  {
   "cell_type": "code",
   "execution_count": 10,
   "metadata": {},
   "outputs": [
    {
     "data": {
      "text/plain": [
       "<Figure size 432x288 with 0 Axes>"
      ]
     },
     "metadata": {},
     "output_type": "display_data"
    },
    {
     "data": {
      "image/png": "[encoded data removed]",
      "text/plain": [
       "<Figure size 432x288 with 10 Axes>"
      ]
     },
     "metadata": {
      "needs_background": "light"
     },
     "output_type": "display_data"
    }
   ],
   "source": [
    "#show images\n",
    "plt.figure()\n",
    "fig,ax = plt.subplots(2,5) # set the number of images in each row and column\n",
    "ax = ax.flatten()\n",
    "for i in range(10):\n",
    "    ax[i].imshow(face_X[i,])"
   ]
  },
  {
   "cell_type": "code",
   "execution_count": 24,
   "metadata": {},
   "outputs": [],
   "source": [
    "from sklearn.model_selection import train_test_split\n",
    "points_data_0,points_data_1,Y0,Y1 = train_test_split(points_data,Y,test_size=0.2,random_state=123)"
   ]
  },
  {
   "cell_type": "code",
   "execution_count": 48,
   "metadata": {},
   "outputs": [
    {
     "name": "stdout",
     "output_type": "stream",
     "text": [
      "Model: \"model_6\"\n",
      "_________________________________________________________________\n",
      "Layer (type)                 Output Shape              Param #   \n",
      "=================================================================\n",
      "input_7 (InputLayer)         (None, 3003)              0         \n",
      "_________________________________________________________________\n",
      "batch_normalization_8 (Batch (None, 3003)              12012     \n",
      "_________________________________________________________________\n",
      "dense_17 (Dense)             (None, 16)                48064     \n",
      "_________________________________________________________________\n",
      "dropout_12 (Dropout)         (None, 16)                0         \n",
      "_________________________________________________________________\n",
      "batch_normalization_9 (Batch (None, 16)                64        \n",
      "_________________________________________________________________\n",
      "dense_18 (Dense)             (None, 96)                1632      \n",
      "_________________________________________________________________\n",
      "dropout_13 (Dropout)         (None, 96)                0         \n",
      "_________________________________________________________________\n",
      "batch_normalization_10 (Batc (None, 96)                384       \n",
      "_________________________________________________________________\n",
      "dense_19 (Dense)             (None, 36)                3492      \n",
      "_________________________________________________________________\n",
      "dropout_14 (Dropout)         (None, 36)                0         \n",
      "_________________________________________________________________\n",
      "dense_20 (Dense)             (None, 22)                814       \n",
      "=================================================================\n",
      "Total params: 66,462\n",
      "Trainable params: 60,232\n",
      "Non-trainable params: 6,230\n",
      "_________________________________________________________________\n"
     ]
    }
   ],
   "source": [
    "# just for fun....\n",
    "from keras.layers import Dense, Activation, Flatten, Input,Dropout\n",
    "from keras.layers import BatchNormalization\n",
    "from keras.models import Model\n",
    "input_shape = [3003] \n",
    "input_layer = Input(input_shape)\n",
    "x = BatchNormalization()(input_layer) \n",
    "x = Dense(16,activation='relu')(x)\n",
    "x = Dropout(0.5)(x)\n",
    "x = BatchNormalization()(x) \n",
    "x = Dense(96,activation='relu')(x)\n",
    "x = Dropout(0.5)(x)\n",
    "\n",
    "output_layer = Dense(22,activation='softmax')(x) \n",
    "model = Model(input_layer,output_layer)\n",
    "model.summary()"
   ]
  },
  {
   "cell_type": "code",
   "execution_count": 49,
   "metadata": {},
   "outputs": [
    {
     "name": "stdout",
     "output_type": "stream",
     "text": [
      "Train on 2000 samples, validate on 500 samples\n",
      "Epoch 1/20\n",
      "2000/2000 [==============================] - 1s 556us/step - loss: 3.5530 - accuracy: 0.0470 - val_loss: 15.0463 - val_accuracy: 0.0480\n",
      "Epoch 2/20\n",
      "2000/2000 [==============================] - 0s 84us/step - loss: 3.1545 - accuracy: 0.0730 - val_loss: 6.0086 - val_accuracy: 0.0800\n",
      "Epoch 3/20\n",
      "2000/2000 [==============================] - ETA: 0s - loss: 3.0741 - accuracy: 0.08 - 0s 87us/step - loss: 3.0849 - accuracy: 0.0805 - val_loss: 3.2094 - val_accuracy: 0.0680\n",
      "Epoch 4/20\n",
      "2000/2000 [==============================] - 0s 85us/step - loss: 3.0220 - accuracy: 0.0815 - val_loss: 3.0717 - val_accuracy: 0.0440\n",
      "Epoch 5/20\n",
      "2000/2000 [==============================] - 0s 85us/step - loss: 2.9572 - accuracy: 0.0875 - val_loss: 2.9651 - val_accuracy: 0.0560\n",
      "Epoch 6/20\n",
      "2000/2000 [==============================] - 0s 92us/step - loss: 2.8746 - accuracy: 0.1050 - val_loss: 2.8892 - val_accuracy: 0.0660\n",
      "Epoch 7/20\n",
      "2000/2000 [==============================] - 0s 94us/step - loss: 2.8092 - accuracy: 0.1095 - val_loss: 2.6938 - val_accuracy: 0.0860\n",
      "Epoch 8/20\n",
      "2000/2000 [==============================] - 0s 92us/step - loss: 2.7527 - accuracy: 0.1250 - val_loss: 2.6770 - val_accuracy: 0.1220\n",
      "Epoch 9/20\n",
      "2000/2000 [==============================] - 0s 91us/step - loss: 2.6918 - accuracy: 0.1350 - val_loss: 2.8294 - val_accuracy: 0.1080\n",
      "Epoch 10/20\n",
      "2000/2000 [==============================] - 0s 86us/step - loss: 2.6255 - accuracy: 0.1415 - val_loss: 2.6481 - val_accuracy: 0.1160\n",
      "Epoch 11/20\n",
      "2000/2000 [==============================] - 0s 85us/step - loss: 2.6087 - accuracy: 0.1640 - val_loss: 2.6629 - val_accuracy: 0.1320\n",
      "Epoch 12/20\n",
      "2000/2000 [==============================] - 0s 86us/step - loss: 2.5758 - accuracy: 0.1500 - val_loss: 2.9235 - val_accuracy: 0.0860\n",
      "Epoch 13/20\n",
      "2000/2000 [==============================] - 0s 85us/step - loss: 2.5355 - accuracy: 0.1660 - val_loss: 2.5479 - val_accuracy: 0.1220\n",
      "Epoch 14/20\n",
      "2000/2000 [==============================] - 0s 85us/step - loss: 2.5235 - accuracy: 0.1565 - val_loss: 2.5158 - val_accuracy: 0.1600\n",
      "Epoch 15/20\n",
      "2000/2000 [==============================] - 0s 86us/step - loss: 2.4502 - accuracy: 0.1865 - val_loss: 2.3762 - val_accuracy: 0.1940\n",
      "Epoch 16/20\n",
      "2000/2000 [==============================] - 0s 86us/step - loss: 2.4356 - accuracy: 0.1880 - val_loss: 2.4864 - val_accuracy: 0.1500\n",
      "Epoch 17/20\n",
      "2000/2000 [==============================] - 0s 91us/step - loss: 2.4703 - accuracy: 0.1675 - val_loss: 2.4690 - val_accuracy: 0.1980\n",
      "Epoch 18/20\n",
      "2000/2000 [==============================] - 0s 86us/step - loss: 2.4408 - accuracy: 0.1845 - val_loss: 2.3438 - val_accuracy: 0.1880\n",
      "Epoch 19/20\n",
      "2000/2000 [==============================] - 0s 86us/step - loss: 2.4373 - accuracy: 0.1790 - val_loss: 2.4008 - val_accuracy: 0.2200\n",
      "Epoch 20/20\n",
      "2000/2000 [==============================] - 0s 98us/step - loss: 2.3972 - accuracy: 0.1860 - val_loss: 2.2788 - val_accuracy: 0.2400\n",
      "lr=0.01, train complete\n",
      "Train on 2000 samples, validate on 500 samples\n",
      "Epoch 1/20\n",
      "2000/2000 [==============================] - 1s 610us/step - loss: 2.3742 - accuracy: 0.1995 - val_loss: 2.2627 - val_accuracy: 0.2600\n",
      "Epoch 2/20\n",
      "2000/2000 [==============================] - 0s 93us/step - loss: 2.3194 - accuracy: 0.2030 - val_loss: 2.2365 - val_accuracy: 0.2640\n",
      "Epoch 3/20\n",
      "2000/2000 [==============================] - 0s 95us/step - loss: 2.3274 - accuracy: 0.2095 - val_loss: 2.2161 - val_accuracy: 0.2880\n",
      "Epoch 4/20\n",
      "2000/2000 [==============================] - 0s 92us/step - loss: 2.3156 - accuracy: 0.2105 - val_loss: 2.1928 - val_accuracy: 0.2860\n",
      "Epoch 5/20\n",
      "2000/2000 [==============================] - 0s 97us/step - loss: 2.2970 - accuracy: 0.2220 - val_loss: 2.1646 - val_accuracy: 0.2900\n",
      "Epoch 6/20\n",
      "2000/2000 [==============================] - 0s 94us/step - loss: 2.2737 - accuracy: 0.2290 - val_loss: 2.1388 - val_accuracy: 0.3040\n",
      "Epoch 7/20\n",
      "2000/2000 [==============================] - 0s 95us/step - loss: 2.2848 - accuracy: 0.2115 - val_loss: 2.1195 - val_accuracy: 0.2920\n",
      "Epoch 8/20\n",
      "2000/2000 [==============================] - 0s 94us/step - loss: 2.2927 - accuracy: 0.2035 - val_loss: 2.1068 - val_accuracy: 0.2960\n",
      "Epoch 9/20\n",
      "2000/2000 [==============================] - 0s 94us/step - loss: 2.2976 - accuracy: 0.2175 - val_loss: 2.1076 - val_accuracy: 0.2780\n",
      "Epoch 10/20\n",
      "2000/2000 [==============================] - 0s 96us/step - loss: 2.2622 - accuracy: 0.2125 - val_loss: 2.1059 - val_accuracy: 0.2880\n",
      "Epoch 11/20\n",
      "2000/2000 [==============================] - 0s 105us/step - loss: 2.2673 - accuracy: 0.2270 - val_loss: 2.0866 - val_accuracy: 0.2920\n",
      "Epoch 12/20\n",
      "2000/2000 [==============================] - 0s 103us/step - loss: 2.2604 - accuracy: 0.2320 - val_loss: 2.0779 - val_accuracy: 0.2900\n",
      "Epoch 13/20\n",
      "2000/2000 [==============================] - 0s 94us/step - loss: 2.2654 - accuracy: 0.2150 - val_loss: 2.0746 - val_accuracy: 0.2880\n",
      "Epoch 14/20\n",
      "2000/2000 [==============================] - 0s 94us/step - loss: 2.2966 - accuracy: 0.2170 - val_loss: 2.0714 - val_accuracy: 0.2860\n",
      "Epoch 15/20\n",
      "2000/2000 [==============================] - 0s 96us/step - loss: 2.2618 - accuracy: 0.2195 - val_loss: 2.0703 - val_accuracy: 0.2900\n",
      "Epoch 16/20\n",
      "2000/2000 [==============================] - 0s 97us/step - loss: 2.2866 - accuracy: 0.2170 - val_loss: 2.0706 - val_accuracy: 0.2820\n",
      "Epoch 17/20\n",
      "2000/2000 [==============================] - 0s 92us/step - loss: 2.2531 - accuracy: 0.2265 - val_loss: 2.0689 - val_accuracy: 0.2960\n",
      "Epoch 18/20\n",
      "2000/2000 [==============================] - 0s 93us/step - loss: 2.2409 - accuracy: 0.2290 - val_loss: 2.0538 - val_accuracy: 0.2780\n",
      "Epoch 19/20\n",
      "2000/2000 [==============================] - 0s 92us/step - loss: 2.2449 - accuracy: 0.2235 - val_loss: 2.0462 - val_accuracy: 0.2800\n",
      "Epoch 20/20\n",
      "2000/2000 [==============================] - 0s 93us/step - loss: 2.2526 - accuracy: 0.2260 - val_loss: 2.0429 - val_accuracy: 0.2920\n",
      "lr=0.001, train complete\n",
      "Train on 2000 samples, validate on 500 samples\n",
      "Epoch 1/20\n",
      "2000/2000 [==============================] - 1s 655us/step - loss: 2.2281 - accuracy: 0.2280 - val_loss: 2.0382 - val_accuracy: 0.2880\n",
      "Epoch 2/20\n",
      "2000/2000 [==============================] - 0s 98us/step - loss: 2.2449 - accuracy: 0.2445 - val_loss: 2.0345 - val_accuracy: 0.2920\n",
      "Epoch 3/20\n",
      "2000/2000 [==============================] - 0s 101us/step - loss: 2.2388 - accuracy: 0.2310 - val_loss: 2.0305 - val_accuracy: 0.2920\n",
      "Epoch 4/20\n",
      "2000/2000 [==============================] - 0s 104us/step - loss: 2.2503 - accuracy: 0.2280 - val_loss: 2.0269 - val_accuracy: 0.2920\n",
      "Epoch 5/20\n",
      "2000/2000 [==============================] - 0s 100us/step - loss: 2.2153 - accuracy: 0.2360 - val_loss: 2.0241 - val_accuracy: 0.2920\n",
      "Epoch 6/20\n",
      "2000/2000 [==============================] - 0s 101us/step - loss: 2.2287 - accuracy: 0.2365 - val_loss: 2.0204 - val_accuracy: 0.2900\n",
      "Epoch 7/20\n",
      "2000/2000 [==============================] - 0s 100us/step - loss: 2.2308 - accuracy: 0.2230 - val_loss: 2.0181 - val_accuracy: 0.2920\n",
      "Epoch 8/20\n",
      "2000/2000 [==============================] - 0s 104us/step - loss: 2.2547 - accuracy: 0.2290 - val_loss: 2.0157 - val_accuracy: 0.2920\n",
      "Epoch 9/20\n",
      "2000/2000 [==============================] - 0s 113us/step - loss: 2.2358 - accuracy: 0.2215 - val_loss: 2.0140 - val_accuracy: 0.2940\n",
      "Epoch 10/20\n",
      "2000/2000 [==============================] - 0s 104us/step - loss: 2.2370 - accuracy: 0.2440 - val_loss: 2.0127 - val_accuracy: 0.2960\n",
      "Epoch 11/20\n",
      "2000/2000 [==============================] - 0s 106us/step - loss: 2.2110 - accuracy: 0.2270 - val_loss: 2.0118 - val_accuracy: 0.2960\n",
      "Epoch 12/20\n",
      "2000/2000 [==============================] - 0s 98us/step - loss: 2.2073 - accuracy: 0.2365 - val_loss: 2.0099 - val_accuracy: 0.2920\n",
      "Epoch 13/20\n",
      "2000/2000 [==============================] - 0s 99us/step - loss: 2.1941 - accuracy: 0.2360 - val_loss: 2.0072 - val_accuracy: 0.2920\n",
      "Epoch 14/20\n",
      "2000/2000 [==============================] - 0s 98us/step - loss: 2.2409 - accuracy: 0.2325 - val_loss: 2.0047 - val_accuracy: 0.2980\n",
      "Epoch 15/20\n"
     ]
    },
    {
     "name": "stdout",
     "output_type": "stream",
     "text": [
      "2000/2000 [==============================] - 0s 103us/step - loss: 2.2437 - accuracy: 0.2180 - val_loss: 2.0036 - val_accuracy: 0.2980\n",
      "Epoch 16/20\n",
      "2000/2000 [==============================] - 0s 99us/step - loss: 2.2111 - accuracy: 0.2325 - val_loss: 2.0028 - val_accuracy: 0.2960\n",
      "Epoch 17/20\n",
      "2000/2000 [==============================] - 0s 97us/step - loss: 2.2193 - accuracy: 0.2370 - val_loss: 2.0018 - val_accuracy: 0.2980\n",
      "Epoch 18/20\n",
      "2000/2000 [==============================] - 0s 97us/step - loss: 2.2082 - accuracy: 0.2190 - val_loss: 1.9992 - val_accuracy: 0.2960\n",
      "Epoch 19/20\n",
      "2000/2000 [==============================] - 0s 98us/step - loss: 2.2037 - accuracy: 0.2340 - val_loss: 1.9972 - val_accuracy: 0.3000\n",
      "Epoch 20/20\n",
      "2000/2000 [==============================] - 0s 98us/step - loss: 2.2260 - accuracy: 0.2235 - val_loss: 1.9962 - val_accuracy: 0.3020\n",
      "lr=0.0001, train complete\n"
     ]
    }
   ],
   "source": [
    "from keras.optimizers import Adam\n",
    "model.compile(loss='categorical_crossentropy',optimizer = Adam(lr=0.01),metrics=['accuracy'])\n",
    "model.fit(points_data_0, Y0, validation_data = [points_data_1,Y1],epochs=20, batch_size=250)\n",
    "print('lr=0.01, train complete')\n",
    "model.compile(loss='categorical_crossentropy',optimizer = Adam(lr=0.001),metrics=['accuracy'])\n",
    "model.fit(points_data_0, Y0, validation_data = [points_data_1,Y1],epochs=20, batch_size=200)\n",
    "print('lr=0.001, train complete')\n",
    "model.compile(loss='categorical_crossentropy',optimizer = Adam(lr=0.0001),metrics=['accuracy'])\n",
    "model.fit(points_data_0, Y0, validation_data = [points_data_1,Y1],epochs=20, batch_size=200)\n",
    "print('lr=0.0001, train complete')"
   ]
  }
 ],
 "metadata": {
  "kernelspec": {
   "display_name": "Python 3",
   "language": "python",
   "name": "python3"
  },
  "language_info": {
   "codemirror_mode": {
    "name": "ipython",
    "version": 3
   },
   "file_extension": ".py",
   "mimetype": "text/x-python",
   "name": "python",
   "nbconvert_exporter": "python",
   "pygments_lexer": "ipython3",
   "version": "3.7.3"
  }
 },
 "nbformat": 4,
 "nbformat_minor": 2
}
